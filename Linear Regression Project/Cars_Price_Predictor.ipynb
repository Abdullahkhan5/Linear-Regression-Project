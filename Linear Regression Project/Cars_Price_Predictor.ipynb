{
 "cells": [
  {
   "cell_type": "code",
   "execution_count": 1,
   "id": "f16c9016",
   "metadata": {},
   "outputs": [],
   "source": [
    "import pandas as pd"
   ]
  },
  {
   "cell_type": "code",
   "execution_count": 2,
   "id": "c17e2fd0",
   "metadata": {},
   "outputs": [],
   "source": [
    "cars = pd.read_csv('CarPrice_Assignment_1.csv')"
   ]
  },
  {
   "cell_type": "code",
   "execution_count": 3,
   "id": "eee6dcca",
   "metadata": {},
   "outputs": [
    {
     "data": {
      "text/html": [
       "<div>\n",
       "<style scoped>\n",
       "    .dataframe tbody tr th:only-of-type {\n",
       "        vertical-align: middle;\n",
       "    }\n",
       "\n",
       "    .dataframe tbody tr th {\n",
       "        vertical-align: top;\n",
       "    }\n",
       "\n",
       "    .dataframe thead th {\n",
       "        text-align: right;\n",
       "    }\n",
       "</style>\n",
       "<table border=\"1\" class=\"dataframe\">\n",
       "  <thead>\n",
       "    <tr style=\"text-align: right;\">\n",
       "      <th></th>\n",
       "      <th>car_ID</th>\n",
       "      <th>symboling</th>\n",
       "      <th>CarName</th>\n",
       "      <th>fueltype</th>\n",
       "      <th>aspiration</th>\n",
       "      <th>doornumber</th>\n",
       "      <th>carbody</th>\n",
       "      <th>drivewheel</th>\n",
       "      <th>enginelocation</th>\n",
       "      <th>wheelbase</th>\n",
       "      <th>...</th>\n",
       "      <th>enginesize</th>\n",
       "      <th>fuelsystem</th>\n",
       "      <th>boreratio</th>\n",
       "      <th>stroke</th>\n",
       "      <th>compressionratio</th>\n",
       "      <th>horsepower</th>\n",
       "      <th>peakrpm</th>\n",
       "      <th>citympg</th>\n",
       "      <th>highwaympg</th>\n",
       "      <th>price</th>\n",
       "    </tr>\n",
       "  </thead>\n",
       "  <tbody>\n",
       "    <tr>\n",
       "      <th>0</th>\n",
       "      <td>1</td>\n",
       "      <td>3</td>\n",
       "      <td>alfa-romero giulia</td>\n",
       "      <td>gas</td>\n",
       "      <td>std</td>\n",
       "      <td>two</td>\n",
       "      <td>convertible</td>\n",
       "      <td>rwd</td>\n",
       "      <td>front</td>\n",
       "      <td>88.6</td>\n",
       "      <td>...</td>\n",
       "      <td>130</td>\n",
       "      <td>mpfi</td>\n",
       "      <td>3.47</td>\n",
       "      <td>2.68</td>\n",
       "      <td>9.0</td>\n",
       "      <td>111</td>\n",
       "      <td>5000</td>\n",
       "      <td>21</td>\n",
       "      <td>27</td>\n",
       "      <td>13495.0</td>\n",
       "    </tr>\n",
       "    <tr>\n",
       "      <th>1</th>\n",
       "      <td>2</td>\n",
       "      <td>3</td>\n",
       "      <td>alfa-romero stelvio</td>\n",
       "      <td>gas</td>\n",
       "      <td>std</td>\n",
       "      <td>two</td>\n",
       "      <td>convertible</td>\n",
       "      <td>rwd</td>\n",
       "      <td>front</td>\n",
       "      <td>88.6</td>\n",
       "      <td>...</td>\n",
       "      <td>130</td>\n",
       "      <td>mpfi</td>\n",
       "      <td>3.47</td>\n",
       "      <td>2.68</td>\n",
       "      <td>9.0</td>\n",
       "      <td>111</td>\n",
       "      <td>5000</td>\n",
       "      <td>21</td>\n",
       "      <td>27</td>\n",
       "      <td>16500.0</td>\n",
       "    </tr>\n",
       "    <tr>\n",
       "      <th>2</th>\n",
       "      <td>3</td>\n",
       "      <td>1</td>\n",
       "      <td>alfa-romero Quadrifoglio</td>\n",
       "      <td>gas</td>\n",
       "      <td>std</td>\n",
       "      <td>two</td>\n",
       "      <td>hatchback</td>\n",
       "      <td>rwd</td>\n",
       "      <td>front</td>\n",
       "      <td>94.5</td>\n",
       "      <td>...</td>\n",
       "      <td>152</td>\n",
       "      <td>mpfi</td>\n",
       "      <td>2.68</td>\n",
       "      <td>3.47</td>\n",
       "      <td>9.0</td>\n",
       "      <td>154</td>\n",
       "      <td>5000</td>\n",
       "      <td>19</td>\n",
       "      <td>26</td>\n",
       "      <td>16500.0</td>\n",
       "    </tr>\n",
       "    <tr>\n",
       "      <th>3</th>\n",
       "      <td>4</td>\n",
       "      <td>2</td>\n",
       "      <td>audi 100 ls</td>\n",
       "      <td>gas</td>\n",
       "      <td>std</td>\n",
       "      <td>four</td>\n",
       "      <td>sedan</td>\n",
       "      <td>fwd</td>\n",
       "      <td>front</td>\n",
       "      <td>99.8</td>\n",
       "      <td>...</td>\n",
       "      <td>109</td>\n",
       "      <td>mpfi</td>\n",
       "      <td>3.19</td>\n",
       "      <td>3.40</td>\n",
       "      <td>10.0</td>\n",
       "      <td>102</td>\n",
       "      <td>5500</td>\n",
       "      <td>24</td>\n",
       "      <td>30</td>\n",
       "      <td>13950.0</td>\n",
       "    </tr>\n",
       "    <tr>\n",
       "      <th>4</th>\n",
       "      <td>5</td>\n",
       "      <td>2</td>\n",
       "      <td>audi 100ls</td>\n",
       "      <td>gas</td>\n",
       "      <td>std</td>\n",
       "      <td>four</td>\n",
       "      <td>sedan</td>\n",
       "      <td>4wd</td>\n",
       "      <td>front</td>\n",
       "      <td>99.4</td>\n",
       "      <td>...</td>\n",
       "      <td>136</td>\n",
       "      <td>mpfi</td>\n",
       "      <td>3.19</td>\n",
       "      <td>3.40</td>\n",
       "      <td>8.0</td>\n",
       "      <td>115</td>\n",
       "      <td>5500</td>\n",
       "      <td>18</td>\n",
       "      <td>22</td>\n",
       "      <td>17450.0</td>\n",
       "    </tr>\n",
       "  </tbody>\n",
       "</table>\n",
       "<p>5 rows × 26 columns</p>\n",
       "</div>"
      ],
      "text/plain": [
       "   car_ID  symboling                   CarName fueltype aspiration doornumber  \\\n",
       "0       1          3        alfa-romero giulia      gas        std        two   \n",
       "1       2          3       alfa-romero stelvio      gas        std        two   \n",
       "2       3          1  alfa-romero Quadrifoglio      gas        std        two   \n",
       "3       4          2               audi 100 ls      gas        std       four   \n",
       "4       5          2                audi 100ls      gas        std       four   \n",
       "\n",
       "       carbody drivewheel enginelocation  wheelbase  ...  enginesize  \\\n",
       "0  convertible        rwd          front       88.6  ...         130   \n",
       "1  convertible        rwd          front       88.6  ...         130   \n",
       "2    hatchback        rwd          front       94.5  ...         152   \n",
       "3        sedan        fwd          front       99.8  ...         109   \n",
       "4        sedan        4wd          front       99.4  ...         136   \n",
       "\n",
       "   fuelsystem  boreratio  stroke compressionratio horsepower  peakrpm citympg  \\\n",
       "0        mpfi       3.47    2.68              9.0        111     5000      21   \n",
       "1        mpfi       3.47    2.68              9.0        111     5000      21   \n",
       "2        mpfi       2.68    3.47              9.0        154     5000      19   \n",
       "3        mpfi       3.19    3.40             10.0        102     5500      24   \n",
       "4        mpfi       3.19    3.40              8.0        115     5500      18   \n",
       "\n",
       "   highwaympg    price  \n",
       "0          27  13495.0  \n",
       "1          27  16500.0  \n",
       "2          26  16500.0  \n",
       "3          30  13950.0  \n",
       "4          22  17450.0  \n",
       "\n",
       "[5 rows x 26 columns]"
      ]
     },
     "execution_count": 3,
     "metadata": {},
     "output_type": "execute_result"
    }
   ],
   "source": [
    "cars.head() #returns the first 5 rows of our dataset"
   ]
  },
  {
   "cell_type": "code",
   "execution_count": 4,
   "id": "9ce6a4f2",
   "metadata": {},
   "outputs": [
    {
     "data": {
      "text/plain": [
       "Index(['car_ID', 'symboling', 'CarName', 'fueltype', 'aspiration',\n",
       "       'doornumber', 'carbody', 'drivewheel', 'enginelocation', 'wheelbase',\n",
       "       'carlength', 'carwidth', 'carheight', 'curbweight', 'enginetype',\n",
       "       'cylindernumber', 'enginesize', 'fuelsystem', 'boreratio', 'stroke',\n",
       "       'compressionratio', 'horsepower', 'peakrpm', 'citympg', 'highwaympg',\n",
       "       'price'],\n",
       "      dtype='object')"
      ]
     },
     "execution_count": 4,
     "metadata": {},
     "output_type": "execute_result"
    }
   ],
   "source": [
    "cars.columns"
   ]
  },
  {
   "cell_type": "code",
   "execution_count": 5,
   "id": "d5561bcb",
   "metadata": {},
   "outputs": [
    {
     "name": "stdout",
     "output_type": "stream",
     "text": [
      "['gas' 'diesel']\n",
      "['rwd' 'fwd' '4wd']\n",
      "['front' 'rear']\n",
      "['mpfi' '2bbl' 'mfi' '1bbl' 'spfi' '4bbl' 'idi' 'spdi']\n",
      "['dohc' 'ohcv' 'ohc' 'l' 'rotor' 'ohcf' 'dohcv']\n"
     ]
    }
   ],
   "source": [
    "print(cars['fueltype'].unique())\n",
    "print(cars['drivewheel'].unique())\n",
    "print(cars['enginelocation'].unique())\n",
    "print(cars['fuelsystem'].unique())\n",
    "print(cars['enginetype'].unique())"
   ]
  },
  {
   "cell_type": "code",
   "execution_count": 6,
   "id": "cda7e55f",
   "metadata": {},
   "outputs": [],
   "source": [
    "#Dropping the features which are not required\n",
    "cars.drop(['car_ID'],axis=1,inplace=True)\n",
    "cars.drop(['CarName'],axis=1,inplace=True)"
   ]
  },
  {
   "cell_type": "code",
   "execution_count": 7,
   "id": "8ab96eca",
   "metadata": {
    "scrolled": true
   },
   "outputs": [
    {
     "name": "stdout",
     "output_type": "stream",
     "text": [
      "<class 'pandas.core.frame.DataFrame'>\n",
      "RangeIndex: 205 entries, 0 to 204\n",
      "Data columns (total 24 columns):\n",
      " #   Column            Non-Null Count  Dtype  \n",
      "---  ------            --------------  -----  \n",
      " 0   symboling         205 non-null    int64  \n",
      " 1   fueltype          205 non-null    object \n",
      " 2   aspiration        205 non-null    object \n",
      " 3   doornumber        205 non-null    object \n",
      " 4   carbody           205 non-null    object \n",
      " 5   drivewheel        205 non-null    object \n",
      " 6   enginelocation    205 non-null    object \n",
      " 7   wheelbase         205 non-null    float64\n",
      " 8   carlength         205 non-null    float64\n",
      " 9   carwidth          205 non-null    float64\n",
      " 10  carheight         201 non-null    float64\n",
      " 11  curbweight        205 non-null    int64  \n",
      " 12  enginetype        205 non-null    object \n",
      " 13  cylindernumber    205 non-null    object \n",
      " 14  enginesize        205 non-null    int64  \n",
      " 15  fuelsystem        205 non-null    object \n",
      " 16  boreratio         205 non-null    float64\n",
      " 17  stroke            205 non-null    float64\n",
      " 18  compressionratio  205 non-null    float64\n",
      " 19  horsepower        205 non-null    int64  \n",
      " 20  peakrpm           205 non-null    int64  \n",
      " 21  citympg           205 non-null    int64  \n",
      " 22  highwaympg        205 non-null    int64  \n",
      " 23  price             205 non-null    float64\n",
      "dtypes: float64(8), int64(7), object(9)\n",
      "memory usage: 38.6+ KB\n"
     ]
    }
   ],
   "source": [
    "cars.info() # tells about the total data entries our csv file contains"
   ]
  },
  {
   "cell_type": "code",
   "execution_count": 8,
   "id": "dd99d0f1",
   "metadata": {},
   "outputs": [
    {
     "data": {
      "text/html": [
       "<div>\n",
       "<style scoped>\n",
       "    .dataframe tbody tr th:only-of-type {\n",
       "        vertical-align: middle;\n",
       "    }\n",
       "\n",
       "    .dataframe tbody tr th {\n",
       "        vertical-align: top;\n",
       "    }\n",
       "\n",
       "    .dataframe thead th {\n",
       "        text-align: right;\n",
       "    }\n",
       "</style>\n",
       "<table border=\"1\" class=\"dataframe\">\n",
       "  <thead>\n",
       "    <tr style=\"text-align: right;\">\n",
       "      <th></th>\n",
       "      <th>symboling</th>\n",
       "      <th>wheelbase</th>\n",
       "      <th>carlength</th>\n",
       "      <th>carwidth</th>\n",
       "      <th>carheight</th>\n",
       "      <th>curbweight</th>\n",
       "      <th>enginesize</th>\n",
       "      <th>boreratio</th>\n",
       "      <th>stroke</th>\n",
       "      <th>compressionratio</th>\n",
       "      <th>horsepower</th>\n",
       "      <th>peakrpm</th>\n",
       "      <th>citympg</th>\n",
       "      <th>highwaympg</th>\n",
       "      <th>price</th>\n",
       "    </tr>\n",
       "  </thead>\n",
       "  <tbody>\n",
       "    <tr>\n",
       "      <th>count</th>\n",
       "      <td>205.000000</td>\n",
       "      <td>205.000000</td>\n",
       "      <td>205.000000</td>\n",
       "      <td>205.000000</td>\n",
       "      <td>201.000000</td>\n",
       "      <td>205.000000</td>\n",
       "      <td>205.000000</td>\n",
       "      <td>205.000000</td>\n",
       "      <td>205.000000</td>\n",
       "      <td>205.000000</td>\n",
       "      <td>205.000000</td>\n",
       "      <td>205.000000</td>\n",
       "      <td>205.000000</td>\n",
       "      <td>205.000000</td>\n",
       "      <td>205.000000</td>\n",
       "    </tr>\n",
       "    <tr>\n",
       "      <th>mean</th>\n",
       "      <td>0.834146</td>\n",
       "      <td>98.756585</td>\n",
       "      <td>174.049268</td>\n",
       "      <td>65.907805</td>\n",
       "      <td>53.697015</td>\n",
       "      <td>2555.565854</td>\n",
       "      <td>126.907317</td>\n",
       "      <td>3.329756</td>\n",
       "      <td>3.255415</td>\n",
       "      <td>10.142537</td>\n",
       "      <td>104.117073</td>\n",
       "      <td>5125.121951</td>\n",
       "      <td>25.219512</td>\n",
       "      <td>30.751220</td>\n",
       "      <td>13276.710571</td>\n",
       "    </tr>\n",
       "    <tr>\n",
       "      <th>std</th>\n",
       "      <td>1.245307</td>\n",
       "      <td>6.021776</td>\n",
       "      <td>12.337289</td>\n",
       "      <td>2.145204</td>\n",
       "      <td>2.435280</td>\n",
       "      <td>520.680204</td>\n",
       "      <td>41.642693</td>\n",
       "      <td>0.270844</td>\n",
       "      <td>0.313597</td>\n",
       "      <td>3.972040</td>\n",
       "      <td>39.544167</td>\n",
       "      <td>476.985643</td>\n",
       "      <td>6.542142</td>\n",
       "      <td>6.886443</td>\n",
       "      <td>7988.852332</td>\n",
       "    </tr>\n",
       "    <tr>\n",
       "      <th>min</th>\n",
       "      <td>-2.000000</td>\n",
       "      <td>86.600000</td>\n",
       "      <td>141.100000</td>\n",
       "      <td>60.300000</td>\n",
       "      <td>47.800000</td>\n",
       "      <td>1488.000000</td>\n",
       "      <td>61.000000</td>\n",
       "      <td>2.540000</td>\n",
       "      <td>2.070000</td>\n",
       "      <td>7.000000</td>\n",
       "      <td>48.000000</td>\n",
       "      <td>4150.000000</td>\n",
       "      <td>13.000000</td>\n",
       "      <td>16.000000</td>\n",
       "      <td>5118.000000</td>\n",
       "    </tr>\n",
       "    <tr>\n",
       "      <th>25%</th>\n",
       "      <td>0.000000</td>\n",
       "      <td>94.500000</td>\n",
       "      <td>166.300000</td>\n",
       "      <td>64.100000</td>\n",
       "      <td>52.000000</td>\n",
       "      <td>2145.000000</td>\n",
       "      <td>97.000000</td>\n",
       "      <td>3.150000</td>\n",
       "      <td>3.110000</td>\n",
       "      <td>8.600000</td>\n",
       "      <td>70.000000</td>\n",
       "      <td>4800.000000</td>\n",
       "      <td>19.000000</td>\n",
       "      <td>25.000000</td>\n",
       "      <td>7788.000000</td>\n",
       "    </tr>\n",
       "    <tr>\n",
       "      <th>50%</th>\n",
       "      <td>1.000000</td>\n",
       "      <td>97.000000</td>\n",
       "      <td>173.200000</td>\n",
       "      <td>65.500000</td>\n",
       "      <td>54.100000</td>\n",
       "      <td>2414.000000</td>\n",
       "      <td>120.000000</td>\n",
       "      <td>3.310000</td>\n",
       "      <td>3.290000</td>\n",
       "      <td>9.000000</td>\n",
       "      <td>95.000000</td>\n",
       "      <td>5200.000000</td>\n",
       "      <td>24.000000</td>\n",
       "      <td>30.000000</td>\n",
       "      <td>10295.000000</td>\n",
       "    </tr>\n",
       "    <tr>\n",
       "      <th>75%</th>\n",
       "      <td>2.000000</td>\n",
       "      <td>102.400000</td>\n",
       "      <td>183.100000</td>\n",
       "      <td>66.900000</td>\n",
       "      <td>55.500000</td>\n",
       "      <td>2935.000000</td>\n",
       "      <td>141.000000</td>\n",
       "      <td>3.580000</td>\n",
       "      <td>3.410000</td>\n",
       "      <td>9.400000</td>\n",
       "      <td>116.000000</td>\n",
       "      <td>5500.000000</td>\n",
       "      <td>30.000000</td>\n",
       "      <td>34.000000</td>\n",
       "      <td>16503.000000</td>\n",
       "    </tr>\n",
       "    <tr>\n",
       "      <th>max</th>\n",
       "      <td>3.000000</td>\n",
       "      <td>120.900000</td>\n",
       "      <td>208.100000</td>\n",
       "      <td>72.300000</td>\n",
       "      <td>59.800000</td>\n",
       "      <td>4066.000000</td>\n",
       "      <td>326.000000</td>\n",
       "      <td>3.940000</td>\n",
       "      <td>4.170000</td>\n",
       "      <td>23.000000</td>\n",
       "      <td>288.000000</td>\n",
       "      <td>6600.000000</td>\n",
       "      <td>49.000000</td>\n",
       "      <td>54.000000</td>\n",
       "      <td>45400.000000</td>\n",
       "    </tr>\n",
       "  </tbody>\n",
       "</table>\n",
       "</div>"
      ],
      "text/plain": [
       "        symboling   wheelbase   carlength    carwidth   carheight  \\\n",
       "count  205.000000  205.000000  205.000000  205.000000  201.000000   \n",
       "mean     0.834146   98.756585  174.049268   65.907805   53.697015   \n",
       "std      1.245307    6.021776   12.337289    2.145204    2.435280   \n",
       "min     -2.000000   86.600000  141.100000   60.300000   47.800000   \n",
       "25%      0.000000   94.500000  166.300000   64.100000   52.000000   \n",
       "50%      1.000000   97.000000  173.200000   65.500000   54.100000   \n",
       "75%      2.000000  102.400000  183.100000   66.900000   55.500000   \n",
       "max      3.000000  120.900000  208.100000   72.300000   59.800000   \n",
       "\n",
       "        curbweight  enginesize   boreratio      stroke  compressionratio  \\\n",
       "count   205.000000  205.000000  205.000000  205.000000        205.000000   \n",
       "mean   2555.565854  126.907317    3.329756    3.255415         10.142537   \n",
       "std     520.680204   41.642693    0.270844    0.313597          3.972040   \n",
       "min    1488.000000   61.000000    2.540000    2.070000          7.000000   \n",
       "25%    2145.000000   97.000000    3.150000    3.110000          8.600000   \n",
       "50%    2414.000000  120.000000    3.310000    3.290000          9.000000   \n",
       "75%    2935.000000  141.000000    3.580000    3.410000          9.400000   \n",
       "max    4066.000000  326.000000    3.940000    4.170000         23.000000   \n",
       "\n",
       "       horsepower      peakrpm     citympg  highwaympg         price  \n",
       "count  205.000000   205.000000  205.000000  205.000000    205.000000  \n",
       "mean   104.117073  5125.121951   25.219512   30.751220  13276.710571  \n",
       "std     39.544167   476.985643    6.542142    6.886443   7988.852332  \n",
       "min     48.000000  4150.000000   13.000000   16.000000   5118.000000  \n",
       "25%     70.000000  4800.000000   19.000000   25.000000   7788.000000  \n",
       "50%     95.000000  5200.000000   24.000000   30.000000  10295.000000  \n",
       "75%    116.000000  5500.000000   30.000000   34.000000  16503.000000  \n",
       "max    288.000000  6600.000000   49.000000   54.000000  45400.000000  "
      ]
     },
     "execution_count": 8,
     "metadata": {},
     "output_type": "execute_result"
    }
   ],
   "source": [
    "cars.describe()"
   ]
  },
  {
   "cell_type": "markdown",
   "id": "5bf20f40",
   "metadata": {},
   "source": [
    "## Dummie Variable Trap"
   ]
  },
  {
   "cell_type": "code",
   "execution_count": 9,
   "id": "390fa163",
   "metadata": {},
   "outputs": [],
   "source": [
    "cars = pd.get_dummies(cars,drop_first=True)"
   ]
  },
  {
   "cell_type": "code",
   "execution_count": 10,
   "id": "d97236f6",
   "metadata": {},
   "outputs": [
    {
     "data": {
      "text/html": [
       "<div>\n",
       "<style scoped>\n",
       "    .dataframe tbody tr th:only-of-type {\n",
       "        vertical-align: middle;\n",
       "    }\n",
       "\n",
       "    .dataframe tbody tr th {\n",
       "        vertical-align: top;\n",
       "    }\n",
       "\n",
       "    .dataframe thead th {\n",
       "        text-align: right;\n",
       "    }\n",
       "</style>\n",
       "<table border=\"1\" class=\"dataframe\">\n",
       "  <thead>\n",
       "    <tr style=\"text-align: right;\">\n",
       "      <th></th>\n",
       "      <th>symboling</th>\n",
       "      <th>wheelbase</th>\n",
       "      <th>carlength</th>\n",
       "      <th>carwidth</th>\n",
       "      <th>carheight</th>\n",
       "      <th>curbweight</th>\n",
       "      <th>enginesize</th>\n",
       "      <th>boreratio</th>\n",
       "      <th>stroke</th>\n",
       "      <th>compressionratio</th>\n",
       "      <th>...</th>\n",
       "      <th>cylindernumber_three</th>\n",
       "      <th>cylindernumber_twelve</th>\n",
       "      <th>cylindernumber_two</th>\n",
       "      <th>fuelsystem_2bbl</th>\n",
       "      <th>fuelsystem_4bbl</th>\n",
       "      <th>fuelsystem_idi</th>\n",
       "      <th>fuelsystem_mfi</th>\n",
       "      <th>fuelsystem_mpfi</th>\n",
       "      <th>fuelsystem_spdi</th>\n",
       "      <th>fuelsystem_spfi</th>\n",
       "    </tr>\n",
       "  </thead>\n",
       "  <tbody>\n",
       "    <tr>\n",
       "      <th>count</th>\n",
       "      <td>205.000000</td>\n",
       "      <td>205.000000</td>\n",
       "      <td>205.000000</td>\n",
       "      <td>205.000000</td>\n",
       "      <td>201.000000</td>\n",
       "      <td>205.000000</td>\n",
       "      <td>205.000000</td>\n",
       "      <td>205.000000</td>\n",
       "      <td>205.000000</td>\n",
       "      <td>205.000000</td>\n",
       "      <td>...</td>\n",
       "      <td>205.000000</td>\n",
       "      <td>205.000000</td>\n",
       "      <td>205.000000</td>\n",
       "      <td>205.000000</td>\n",
       "      <td>205.000000</td>\n",
       "      <td>205.000000</td>\n",
       "      <td>205.000000</td>\n",
       "      <td>205.000000</td>\n",
       "      <td>205.000000</td>\n",
       "      <td>205.000000</td>\n",
       "    </tr>\n",
       "    <tr>\n",
       "      <th>mean</th>\n",
       "      <td>0.834146</td>\n",
       "      <td>98.756585</td>\n",
       "      <td>174.049268</td>\n",
       "      <td>65.907805</td>\n",
       "      <td>53.697015</td>\n",
       "      <td>2555.565854</td>\n",
       "      <td>126.907317</td>\n",
       "      <td>3.329756</td>\n",
       "      <td>3.255415</td>\n",
       "      <td>10.142537</td>\n",
       "      <td>...</td>\n",
       "      <td>0.004878</td>\n",
       "      <td>0.004878</td>\n",
       "      <td>0.019512</td>\n",
       "      <td>0.321951</td>\n",
       "      <td>0.014634</td>\n",
       "      <td>0.097561</td>\n",
       "      <td>0.004878</td>\n",
       "      <td>0.458537</td>\n",
       "      <td>0.043902</td>\n",
       "      <td>0.004878</td>\n",
       "    </tr>\n",
       "    <tr>\n",
       "      <th>std</th>\n",
       "      <td>1.245307</td>\n",
       "      <td>6.021776</td>\n",
       "      <td>12.337289</td>\n",
       "      <td>2.145204</td>\n",
       "      <td>2.435280</td>\n",
       "      <td>520.680204</td>\n",
       "      <td>41.642693</td>\n",
       "      <td>0.270844</td>\n",
       "      <td>0.313597</td>\n",
       "      <td>3.972040</td>\n",
       "      <td>...</td>\n",
       "      <td>0.069843</td>\n",
       "      <td>0.069843</td>\n",
       "      <td>0.138655</td>\n",
       "      <td>0.468368</td>\n",
       "      <td>0.120377</td>\n",
       "      <td>0.297446</td>\n",
       "      <td>0.069843</td>\n",
       "      <td>0.499498</td>\n",
       "      <td>0.205380</td>\n",
       "      <td>0.069843</td>\n",
       "    </tr>\n",
       "    <tr>\n",
       "      <th>min</th>\n",
       "      <td>-2.000000</td>\n",
       "      <td>86.600000</td>\n",
       "      <td>141.100000</td>\n",
       "      <td>60.300000</td>\n",
       "      <td>47.800000</td>\n",
       "      <td>1488.000000</td>\n",
       "      <td>61.000000</td>\n",
       "      <td>2.540000</td>\n",
       "      <td>2.070000</td>\n",
       "      <td>7.000000</td>\n",
       "      <td>...</td>\n",
       "      <td>0.000000</td>\n",
       "      <td>0.000000</td>\n",
       "      <td>0.000000</td>\n",
       "      <td>0.000000</td>\n",
       "      <td>0.000000</td>\n",
       "      <td>0.000000</td>\n",
       "      <td>0.000000</td>\n",
       "      <td>0.000000</td>\n",
       "      <td>0.000000</td>\n",
       "      <td>0.000000</td>\n",
       "    </tr>\n",
       "    <tr>\n",
       "      <th>25%</th>\n",
       "      <td>0.000000</td>\n",
       "      <td>94.500000</td>\n",
       "      <td>166.300000</td>\n",
       "      <td>64.100000</td>\n",
       "      <td>52.000000</td>\n",
       "      <td>2145.000000</td>\n",
       "      <td>97.000000</td>\n",
       "      <td>3.150000</td>\n",
       "      <td>3.110000</td>\n",
       "      <td>8.600000</td>\n",
       "      <td>...</td>\n",
       "      <td>0.000000</td>\n",
       "      <td>0.000000</td>\n",
       "      <td>0.000000</td>\n",
       "      <td>0.000000</td>\n",
       "      <td>0.000000</td>\n",
       "      <td>0.000000</td>\n",
       "      <td>0.000000</td>\n",
       "      <td>0.000000</td>\n",
       "      <td>0.000000</td>\n",
       "      <td>0.000000</td>\n",
       "    </tr>\n",
       "    <tr>\n",
       "      <th>50%</th>\n",
       "      <td>1.000000</td>\n",
       "      <td>97.000000</td>\n",
       "      <td>173.200000</td>\n",
       "      <td>65.500000</td>\n",
       "      <td>54.100000</td>\n",
       "      <td>2414.000000</td>\n",
       "      <td>120.000000</td>\n",
       "      <td>3.310000</td>\n",
       "      <td>3.290000</td>\n",
       "      <td>9.000000</td>\n",
       "      <td>...</td>\n",
       "      <td>0.000000</td>\n",
       "      <td>0.000000</td>\n",
       "      <td>0.000000</td>\n",
       "      <td>0.000000</td>\n",
       "      <td>0.000000</td>\n",
       "      <td>0.000000</td>\n",
       "      <td>0.000000</td>\n",
       "      <td>0.000000</td>\n",
       "      <td>0.000000</td>\n",
       "      <td>0.000000</td>\n",
       "    </tr>\n",
       "    <tr>\n",
       "      <th>75%</th>\n",
       "      <td>2.000000</td>\n",
       "      <td>102.400000</td>\n",
       "      <td>183.100000</td>\n",
       "      <td>66.900000</td>\n",
       "      <td>55.500000</td>\n",
       "      <td>2935.000000</td>\n",
       "      <td>141.000000</td>\n",
       "      <td>3.580000</td>\n",
       "      <td>3.410000</td>\n",
       "      <td>9.400000</td>\n",
       "      <td>...</td>\n",
       "      <td>0.000000</td>\n",
       "      <td>0.000000</td>\n",
       "      <td>0.000000</td>\n",
       "      <td>1.000000</td>\n",
       "      <td>0.000000</td>\n",
       "      <td>0.000000</td>\n",
       "      <td>0.000000</td>\n",
       "      <td>1.000000</td>\n",
       "      <td>0.000000</td>\n",
       "      <td>0.000000</td>\n",
       "    </tr>\n",
       "    <tr>\n",
       "      <th>max</th>\n",
       "      <td>3.000000</td>\n",
       "      <td>120.900000</td>\n",
       "      <td>208.100000</td>\n",
       "      <td>72.300000</td>\n",
       "      <td>59.800000</td>\n",
       "      <td>4066.000000</td>\n",
       "      <td>326.000000</td>\n",
       "      <td>3.940000</td>\n",
       "      <td>4.170000</td>\n",
       "      <td>23.000000</td>\n",
       "      <td>...</td>\n",
       "      <td>1.000000</td>\n",
       "      <td>1.000000</td>\n",
       "      <td>1.000000</td>\n",
       "      <td>1.000000</td>\n",
       "      <td>1.000000</td>\n",
       "      <td>1.000000</td>\n",
       "      <td>1.000000</td>\n",
       "      <td>1.000000</td>\n",
       "      <td>1.000000</td>\n",
       "      <td>1.000000</td>\n",
       "    </tr>\n",
       "  </tbody>\n",
       "</table>\n",
       "<p>8 rows × 44 columns</p>\n",
       "</div>"
      ],
      "text/plain": [
       "        symboling   wheelbase   carlength    carwidth   carheight  \\\n",
       "count  205.000000  205.000000  205.000000  205.000000  201.000000   \n",
       "mean     0.834146   98.756585  174.049268   65.907805   53.697015   \n",
       "std      1.245307    6.021776   12.337289    2.145204    2.435280   \n",
       "min     -2.000000   86.600000  141.100000   60.300000   47.800000   \n",
       "25%      0.000000   94.500000  166.300000   64.100000   52.000000   \n",
       "50%      1.000000   97.000000  173.200000   65.500000   54.100000   \n",
       "75%      2.000000  102.400000  183.100000   66.900000   55.500000   \n",
       "max      3.000000  120.900000  208.100000   72.300000   59.800000   \n",
       "\n",
       "        curbweight  enginesize   boreratio      stroke  compressionratio  ...  \\\n",
       "count   205.000000  205.000000  205.000000  205.000000        205.000000  ...   \n",
       "mean   2555.565854  126.907317    3.329756    3.255415         10.142537  ...   \n",
       "std     520.680204   41.642693    0.270844    0.313597          3.972040  ...   \n",
       "min    1488.000000   61.000000    2.540000    2.070000          7.000000  ...   \n",
       "25%    2145.000000   97.000000    3.150000    3.110000          8.600000  ...   \n",
       "50%    2414.000000  120.000000    3.310000    3.290000          9.000000  ...   \n",
       "75%    2935.000000  141.000000    3.580000    3.410000          9.400000  ...   \n",
       "max    4066.000000  326.000000    3.940000    4.170000         23.000000  ...   \n",
       "\n",
       "       cylindernumber_three  cylindernumber_twelve  cylindernumber_two  \\\n",
       "count            205.000000             205.000000          205.000000   \n",
       "mean               0.004878               0.004878            0.019512   \n",
       "std                0.069843               0.069843            0.138655   \n",
       "min                0.000000               0.000000            0.000000   \n",
       "25%                0.000000               0.000000            0.000000   \n",
       "50%                0.000000               0.000000            0.000000   \n",
       "75%                0.000000               0.000000            0.000000   \n",
       "max                1.000000               1.000000            1.000000   \n",
       "\n",
       "       fuelsystem_2bbl  fuelsystem_4bbl  fuelsystem_idi  fuelsystem_mfi  \\\n",
       "count       205.000000       205.000000      205.000000      205.000000   \n",
       "mean          0.321951         0.014634        0.097561        0.004878   \n",
       "std           0.468368         0.120377        0.297446        0.069843   \n",
       "min           0.000000         0.000000        0.000000        0.000000   \n",
       "25%           0.000000         0.000000        0.000000        0.000000   \n",
       "50%           0.000000         0.000000        0.000000        0.000000   \n",
       "75%           1.000000         0.000000        0.000000        0.000000   \n",
       "max           1.000000         1.000000        1.000000        1.000000   \n",
       "\n",
       "       fuelsystem_mpfi  fuelsystem_spdi  fuelsystem_spfi  \n",
       "count       205.000000       205.000000       205.000000  \n",
       "mean          0.458537         0.043902         0.004878  \n",
       "std           0.499498         0.205380         0.069843  \n",
       "min           0.000000         0.000000         0.000000  \n",
       "25%           0.000000         0.000000         0.000000  \n",
       "50%           0.000000         0.000000         0.000000  \n",
       "75%           1.000000         0.000000         0.000000  \n",
       "max           1.000000         1.000000         1.000000  \n",
       "\n",
       "[8 rows x 44 columns]"
      ]
     },
     "execution_count": 10,
     "metadata": {},
     "output_type": "execute_result"
    }
   ],
   "source": [
    "cars.describe()"
   ]
  },
  {
   "cell_type": "code",
   "execution_count": 11,
   "id": "b65b163e",
   "metadata": {},
   "outputs": [
    {
     "name": "stdout",
     "output_type": "stream",
     "text": [
      "<class 'pandas.core.frame.DataFrame'>\n",
      "RangeIndex: 205 entries, 0 to 204\n",
      "Data columns (total 44 columns):\n",
      " #   Column                 Non-Null Count  Dtype  \n",
      "---  ------                 --------------  -----  \n",
      " 0   symboling              205 non-null    int64  \n",
      " 1   wheelbase              205 non-null    float64\n",
      " 2   carlength              205 non-null    float64\n",
      " 3   carwidth               205 non-null    float64\n",
      " 4   carheight              201 non-null    float64\n",
      " 5   curbweight             205 non-null    int64  \n",
      " 6   enginesize             205 non-null    int64  \n",
      " 7   boreratio              205 non-null    float64\n",
      " 8   stroke                 205 non-null    float64\n",
      " 9   compressionratio       205 non-null    float64\n",
      " 10  horsepower             205 non-null    int64  \n",
      " 11  peakrpm                205 non-null    int64  \n",
      " 12  citympg                205 non-null    int64  \n",
      " 13  highwaympg             205 non-null    int64  \n",
      " 14  price                  205 non-null    float64\n",
      " 15  fueltype_gas           205 non-null    uint8  \n",
      " 16  aspiration_turbo       205 non-null    uint8  \n",
      " 17  doornumber_two         205 non-null    uint8  \n",
      " 18  carbody_hardtop        205 non-null    uint8  \n",
      " 19  carbody_hatchback      205 non-null    uint8  \n",
      " 20  carbody_sedan          205 non-null    uint8  \n",
      " 21  carbody_wagon          205 non-null    uint8  \n",
      " 22  drivewheel_fwd         205 non-null    uint8  \n",
      " 23  drivewheel_rwd         205 non-null    uint8  \n",
      " 24  enginelocation_rear    205 non-null    uint8  \n",
      " 25  enginetype_dohcv       205 non-null    uint8  \n",
      " 26  enginetype_l           205 non-null    uint8  \n",
      " 27  enginetype_ohc         205 non-null    uint8  \n",
      " 28  enginetype_ohcf        205 non-null    uint8  \n",
      " 29  enginetype_ohcv        205 non-null    uint8  \n",
      " 30  enginetype_rotor       205 non-null    uint8  \n",
      " 31  cylindernumber_five    205 non-null    uint8  \n",
      " 32  cylindernumber_four    205 non-null    uint8  \n",
      " 33  cylindernumber_six     205 non-null    uint8  \n",
      " 34  cylindernumber_three   205 non-null    uint8  \n",
      " 35  cylindernumber_twelve  205 non-null    uint8  \n",
      " 36  cylindernumber_two     205 non-null    uint8  \n",
      " 37  fuelsystem_2bbl        205 non-null    uint8  \n",
      " 38  fuelsystem_4bbl        205 non-null    uint8  \n",
      " 39  fuelsystem_idi         205 non-null    uint8  \n",
      " 40  fuelsystem_mfi         205 non-null    uint8  \n",
      " 41  fuelsystem_mpfi        205 non-null    uint8  \n",
      " 42  fuelsystem_spdi        205 non-null    uint8  \n",
      " 43  fuelsystem_spfi        205 non-null    uint8  \n",
      "dtypes: float64(8), int64(7), uint8(29)\n",
      "memory usage: 30.0 KB\n"
     ]
    }
   ],
   "source": [
    "cars.info()"
   ]
  },
  {
   "cell_type": "code",
   "execution_count": null,
   "id": "507e087e",
   "metadata": {},
   "outputs": [
    {
     "data": {
      "text/plain": [
       "array([[<AxesSubplot:title={'center':'symboling'}>,\n",
       "        <AxesSubplot:title={'center':'wheelbase'}>,\n",
       "        <AxesSubplot:title={'center':'carlength'}>,\n",
       "        <AxesSubplot:title={'center':'carwidth'}>,\n",
       "        <AxesSubplot:title={'center':'carheight'}>,\n",
       "        <AxesSubplot:title={'center':'curbweight'}>,\n",
       "        <AxesSubplot:title={'center':'enginesize'}>],\n",
       "       [<AxesSubplot:title={'center':'boreratio'}>,\n",
       "        <AxesSubplot:title={'center':'stroke'}>,\n",
       "        <AxesSubplot:title={'center':'compressionratio'}>,\n",
       "        <AxesSubplot:title={'center':'horsepower'}>,\n",
       "        <AxesSubplot:title={'center':'peakrpm'}>,\n",
       "        <AxesSubplot:title={'center':'citympg'}>,\n",
       "        <AxesSubplot:title={'center':'highwaympg'}>],\n",
       "       [<AxesSubplot:title={'center':'price'}>,\n",
       "        <AxesSubplot:title={'center':'fueltype_gas'}>,\n",
       "        <AxesSubplot:title={'center':'aspiration_turbo'}>,\n",
       "        <AxesSubplot:title={'center':'doornumber_two'}>,\n",
       "        <AxesSubplot:title={'center':'carbody_hardtop'}>,\n",
       "        <AxesSubplot:title={'center':'carbody_hatchback'}>,\n",
       "        <AxesSubplot:title={'center':'carbody_sedan'}>],\n",
       "       [<AxesSubplot:title={'center':'carbody_wagon'}>,\n",
       "        <AxesSubplot:title={'center':'drivewheel_fwd'}>,\n",
       "        <AxesSubplot:title={'center':'drivewheel_rwd'}>,\n",
       "        <AxesSubplot:title={'center':'enginelocation_rear'}>,\n",
       "        <AxesSubplot:title={'center':'enginetype_dohcv'}>,\n",
       "        <AxesSubplot:title={'center':'enginetype_l'}>,\n",
       "        <AxesSubplot:title={'center':'enginetype_ohc'}>],\n",
       "       [<AxesSubplot:title={'center':'enginetype_ohcf'}>,\n",
       "        <AxesSubplot:title={'center':'enginetype_ohcv'}>,\n",
       "        <AxesSubplot:title={'center':'enginetype_rotor'}>,\n",
       "        <AxesSubplot:title={'center':'cylindernumber_five'}>,\n",
       "        <AxesSubplot:title={'center':'cylindernumber_four'}>,\n",
       "        <AxesSubplot:title={'center':'cylindernumber_six'}>,\n",
       "        <AxesSubplot:title={'center':'cylindernumber_three'}>],\n",
       "       [<AxesSubplot:title={'center':'cylindernumber_twelve'}>,\n",
       "        <AxesSubplot:title={'center':'cylindernumber_two'}>,\n",
       "        <AxesSubplot:title={'center':'fuelsystem_2bbl'}>,\n",
       "        <AxesSubplot:title={'center':'fuelsystem_4bbl'}>,\n",
       "        <AxesSubplot:title={'center':'fuelsystem_idi'}>,\n",
       "        <AxesSubplot:title={'center':'fuelsystem_mfi'}>,\n",
       "        <AxesSubplot:title={'center':'fuelsystem_mpfi'}>],\n",
       "       [<AxesSubplot:title={'center':'fuelsystem_spdi'}>,\n",
       "        <AxesSubplot:title={'center':'fuelsystem_spfi'}>, <AxesSubplot:>,\n",
       "        <AxesSubplot:>, <AxesSubplot:>, <AxesSubplot:>, <AxesSubplot:>]],\n",
       "      dtype=object)"
      ]
     },
     "execution_count": 12,
     "metadata": {},
     "output_type": "execute_result"
    }
   ],
   "source": [
    "from matplotlib import pyplot as plt\n",
    "cars.hist(figsize=(20,20))"
   ]
  },
  {
   "cell_type": "markdown",
   "id": "1b011436",
   "metadata": {},
   "source": [
    "## Coorelations"
   ]
  },
  {
   "cell_type": "markdown",
   "id": "daae6d0c",
   "metadata": {},
   "source": [
    "### It will tell us that whether when one event value is high/low then what will be its affect on other values"
   ]
  },
  {
   "cell_type": "code",
   "execution_count": null,
   "id": "b3ad894a",
   "metadata": {
    "scrolled": true
   },
   "outputs": [],
   "source": [
    "coorelation = cars.corr() \n",
    "coorelation['price'].sort_values(ascending=True)"
   ]
  },
  {
   "cell_type": "markdown",
   "id": "e45002d0",
   "metadata": {},
   "source": [
    "## Removing features having less coorelation with price"
   ]
  },
  {
   "cell_type": "code",
   "execution_count": null,
   "id": "c95af549",
   "metadata": {},
   "outputs": [],
   "source": [
    "cars.drop(['fueltype_gas'],axis=1,inplace=True)\n",
    "cars.drop(['peakrpm'],axis=1,inplace=True)\n",
    "cars.drop(['symboling'],axis=1,inplace=True)\n",
    "cars.drop(['fuelsystem_spdi'],axis=1,inplace=True)\n",
    "cars.drop(['cylindernumber_three'],axis=1,inplace=True)\n",
    "cars.drop(['carbody_wagon'],axis=1,inplace=True)\n",
    "cars.drop(['fuelsystem_spfi'],axis=1,inplace=True)\n",
    "cars.drop(['fuelsystem_4bbl'],axis=1,inplace=True)\n",
    "cars.drop(['enginetype_rotor'],axis=1,inplace=True)\n",
    "cars.drop(['cylindernumber_two'],axis=1,inplace=True)\n",
    "cars.drop(['fuelsystem_mfi'],axis=1,inplace=True)\n",
    "cars.drop(['enginetype_ohcf'],axis=1,inplace=True)\n",
    "cars.drop(['enginetype_l'],axis=1,inplace=True)\n",
    "cars.drop(['compressionratio'],axis=1,inplace=True)\n",
    "cars.drop(['stroke'],axis=1,inplace=True)\n",
    "cars.drop(['fuelsystem_idi'],axis=1,inplace=True)\n",
    "cars.drop(['carheight'],axis=1,inplace=True)\n",
    "cars.drop(['carbody_sedan'],axis=1,inplace=True)\n",
    "cars.drop(['enginetype_dohcv'],axis=1,inplace=True)\n",
    "cars.drop(['aspiration_turbo'],axis=1,inplace=True)\n",
    "cars.drop(['cylindernumber_twelve'],axis=1,inplace=True)\n",
    "cars.drop(['doornumber_two'],axis=1,inplace=True)\n",
    "\n",
    "coorelation = cars.corr() \n",
    "coorelation['price'].sort_values(ascending=True)"
   ]
  },
  {
   "cell_type": "code",
   "execution_count": null,
   "id": "2a85990b",
   "metadata": {},
   "outputs": [],
   "source": [
    "cars.head()"
   ]
  },
  {
   "cell_type": "code",
   "execution_count": null,
   "id": "3bbc559e",
   "metadata": {
    "scrolled": true
   },
   "outputs": [],
   "source": [
    "from pandas.plotting import scatter_matrix\n",
    "attributes = ['price','highwaympg','enginesize']\n",
    "scatter_matrix(cars[attributes],figsize=(12,8))"
   ]
  },
  {
   "cell_type": "code",
   "execution_count": null,
   "id": "c4a9c8b9",
   "metadata": {},
   "outputs": [],
   "source": [
    "import seaborn as sns\n",
    "plt.figure(figsize=(30,25))\n",
    "sns.heatmap(coorelation,annot=True,cmap=\"RdYlGn\")"
   ]
  },
  {
   "cell_type": "markdown",
   "id": "9d7c11a7",
   "metadata": {},
   "source": [
    "## Splitting Training and Testing Data"
   ]
  },
  {
   "cell_type": "code",
   "execution_count": null,
   "id": "c3edb9df",
   "metadata": {},
   "outputs": [],
   "source": [
    "import numpy as np\n",
    "\n",
    "def split_train_test(data,test_ratio):\n",
    "    np.random.seed(123) #Specifying because otherwise due to random numbers the model would also see the testing examples\n",
    "    shuffled_Indices = np.random.permutation(len(data)) #Shuffles the dataframe indices\n",
    "    test_Data_Size = int(test_ratio * len(data))\n",
    "    test_Indices = shuffled_Indices[:test_Data_Size]\n",
    "    train_Indices = shuffled_Indices[test_Data_Size:]\n",
    "    \n",
    "    return data.iloc[train_Indices] , data.iloc[test_Indices] #Returns the data at the given indices"
   ]
  },
  {
   "cell_type": "code",
   "execution_count": null,
   "id": "97c8cb1f",
   "metadata": {},
   "outputs": [],
   "source": [
    "train_Data,test_Data = split_train_test(cars,0.2)"
   ]
  },
  {
   "cell_type": "code",
   "execution_count": null,
   "id": "7beb414b",
   "metadata": {},
   "outputs": [],
   "source": [
    "#Inbuilt split function\n",
    "# from sklearn.model_selection import train_test_split\n",
    "\n",
    "# train_Data,test_Data = train_test_split(cars,test_size=0.2,random_state=123)"
   ]
  },
  {
   "cell_type": "code",
   "execution_count": null,
   "id": "74909656",
   "metadata": {},
   "outputs": [],
   "source": [
    "print(len(train_Data),len(test_Data))"
   ]
  },
  {
   "cell_type": "code",
   "execution_count": null,
   "id": "33310216",
   "metadata": {},
   "outputs": [],
   "source": [
    "print(cars['fuelsystem_2bbl'].value_counts(normalize=True)*100)\n",
    "print(cars['cylindernumber_four'].value_counts(normalize=True)*100)\n",
    "print(cars['drivewheel_rwd'].value_counts(normalize=True)*100)\n",
    "print(cars['fuelsystem_mpfi'].value_counts(normalize=True)*100)"
   ]
  },
  {
   "cell_type": "markdown",
   "id": "e0136a1f",
   "metadata": {},
   "source": [
    "## Splitting Columns having bool Values Proportion of '0' and '1' biased"
   ]
  },
  {
   "cell_type": "code",
   "execution_count": null,
   "id": "4083870e",
   "metadata": {},
   "outputs": [],
   "source": [
    "from sklearn.model_selection import StratifiedShuffleSplit\n",
    "\n",
    "split_Data = StratifiedShuffleSplit(n_splits = 1,test_size = 0.2,random_state=123)\n",
    "\n",
    "for train_Index,test_Index in split_Data.split(cars,cars['drivewheel_rwd'],cars['cylindernumber_four']):  #Using StratifiedShuffleSplit 'split' function\n",
    "    stratified_Train_Set = cars.loc[train_Index] #Using 'loc' as train index is giving us the Indices of the data\n",
    "    stratified_Test_Set = cars.loc[test_Index]"
   ]
  },
  {
   "cell_type": "code",
   "execution_count": null,
   "id": "88de925f",
   "metadata": {},
   "outputs": [],
   "source": [
    "print(stratified_Train_Set['cylindernumber_four'].value_counts())\n",
    "print(stratified_Train_Set['drivewheel_rwd'].value_counts())"
   ]
  },
  {
   "cell_type": "code",
   "execution_count": null,
   "id": "ed6eb957",
   "metadata": {},
   "outputs": [],
   "source": [
    "print(stratified_Test_Set['cylindernumber_four'].value_counts())\n",
    "print(stratified_Test_Set['drivewheel_rwd'].value_counts())"
   ]
  },
  {
   "cell_type": "code",
   "execution_count": null,
   "id": "629efea6",
   "metadata": {},
   "outputs": [],
   "source": [
    "124/40 , 35/6"
   ]
  },
  {
   "cell_type": "code",
   "execution_count": null,
   "id": "f87c30f9",
   "metadata": {},
   "outputs": [],
   "source": [
    "103/61 , 26/15"
   ]
  },
  {
   "cell_type": "markdown",
   "id": "5a3f6e9c",
   "metadata": {},
   "source": [
    "### 👆 Now we can see we almost have same amount of bool values in both Training and Testing Cases "
   ]
  },
  {
   "cell_type": "code",
   "execution_count": null,
   "id": "bbb4bf39",
   "metadata": {},
   "outputs": [],
   "source": [
    "cars_Labels = stratified_Train_Set[\"price\"].copy()\n",
    "stratified_Train_Set.drop(\"price\",axis=1,inplace=True)\n",
    "cars = stratified_Train_Set.copy()\n",
    "\n",
    "print(cars.info())"
   ]
  },
  {
   "cell_type": "markdown",
   "id": "cd01038d",
   "metadata": {},
   "source": [
    "## Missing Attributes"
   ]
  },
  {
   "cell_type": "code",
   "execution_count": null,
   "id": "f0ea1aa7",
   "metadata": {},
   "outputs": [],
   "source": [
    "cars.isnull().sum() #Checks for null values"
   ]
  },
  {
   "cell_type": "code",
   "execution_count": null,
   "id": "7937bd9e",
   "metadata": {},
   "outputs": [],
   "source": [
    "#If there are missing attributes, then we have three options:\n",
    "#   1. Get rid of the missing point\n",
    "#   2. Get rid of the whole attribute\n",
    "#   3. Set the value to 0, mean or median"
   ]
  },
  {
   "cell_type": "code",
   "execution_count": null,
   "id": "978bee7c",
   "metadata": {},
   "outputs": [],
   "source": [
    "#Option 1\n",
    "# cars.dropna(subset=['Column Name having missing points'])"
   ]
  },
  {
   "cell_type": "code",
   "execution_count": null,
   "id": "f8cd4fb1",
   "metadata": {},
   "outputs": [],
   "source": [
    "#Option 2\n",
    "# cars.drop(\"Column Name having missing points\",axis=1)"
   ]
  },
  {
   "cell_type": "code",
   "execution_count": null,
   "id": "ea24a2ba",
   "metadata": {},
   "outputs": [],
   "source": [
    "#Option 3\n",
    "# cars[\"Column Name having missing points\"].fillna(0/mean/median)"
   ]
  },
  {
   "cell_type": "code",
   "execution_count": null,
   "id": "976a8ac5",
   "metadata": {},
   "outputs": [],
   "source": [
    "cars.describe() #before Imputing"
   ]
  },
  {
   "cell_type": "markdown",
   "id": "58db4351",
   "metadata": {},
   "source": [
    "### Suppose if the new data is given to us and it also contains missing values for this we have to save the mean/median"
   ]
  },
  {
   "cell_type": "code",
   "execution_count": null,
   "id": "3052be2b",
   "metadata": {},
   "outputs": [],
   "source": [
    "from sklearn.impute import SimpleImputer\n",
    "\n",
    "imputer = SimpleImputer(strategy = \"median\") #if initally we are storing median in case of null values\n",
    "imputer.fit(cars)"
   ]
  },
  {
   "cell_type": "code",
   "execution_count": null,
   "id": "19037930",
   "metadata": {},
   "outputs": [],
   "source": [
    "imputer.statistics_ #Returns us median values for our columns"
   ]
  },
  {
   "cell_type": "code",
   "execution_count": null,
   "id": "371c4e7e",
   "metadata": {},
   "outputs": [],
   "source": [
    "X = imputer.transform(cars)  #Returns our Imputed Data in form of arrays"
   ]
  },
  {
   "cell_type": "code",
   "execution_count": null,
   "id": "62f486f9",
   "metadata": {},
   "outputs": [],
   "source": [
    "cars_tr = pd.DataFrame(X , columns = cars.columns) #Creating Dataframe"
   ]
  },
  {
   "cell_type": "code",
   "execution_count": null,
   "id": "e0f8b932",
   "metadata": {},
   "outputs": [],
   "source": [
    "cars_tr.describe()"
   ]
  },
  {
   "cell_type": "markdown",
   "id": "9f2cc514",
   "metadata": {},
   "source": [
    "## Feature Scaling"
   ]
  },
  {
   "cell_type": "markdown",
   "id": "0db37184",
   "metadata": {},
   "source": [
    "There are two types of Features Scaling\n",
    "1. Min-max Scaling (Normalization)\n",
    "    (value-min)/(max-min)\n",
    "    Sklearn has MinMaxScaler\n",
    "2. Standardization\n",
    "    (value-mean)/std\n",
    "    Sklearn has StandardScaler"
   ]
  },
  {
   "cell_type": "markdown",
   "id": "116daf95",
   "metadata": {},
   "source": [
    "## Creating Pipelines"
   ]
  },
  {
   "cell_type": "markdown",
   "id": "0eea4f4b",
   "metadata": {},
   "source": [
    "Pipelines are created so that later we can change our model and strategies"
   ]
  },
  {
   "cell_type": "code",
   "execution_count": null,
   "id": "834d492a",
   "metadata": {},
   "outputs": [],
   "source": [
    "from sklearn.pipeline import Pipeline\n",
    "from sklearn.preprocessing import StandardScaler\n",
    "\n",
    "my_pipeline = Pipeline([\n",
    "    ('imputer' , SimpleImputer(strategy = \"median\")),\n",
    "    ('std_Scaler' , StandardScaler()),\n",
    "    # more features can also be added in the pipeline\n",
    "])"
   ]
  },
  {
   "cell_type": "code",
   "execution_count": null,
   "id": "4855cdb7",
   "metadata": {},
   "outputs": [],
   "source": [
    "cars_num_tr = my_pipeline.fit_transform(cars)  #Using our cars data because our pipeline contains imputer so don't need to add cars_tr data\n",
    "\n",
    "type(cars_num_tr)"
   ]
  },
  {
   "cell_type": "markdown",
   "id": "598e65df",
   "metadata": {},
   "source": [
    "### The predictors in Scikit learn use numpy arrays rather then Pandas Dataframe"
   ]
  },
  {
   "cell_type": "markdown",
   "id": "e9144135",
   "metadata": {},
   "source": [
    "## Training our Model"
   ]
  },
  {
   "cell_type": "code",
   "execution_count": null,
   "id": "8d58ffb3",
   "metadata": {},
   "outputs": [],
   "source": [
    "from sklearn.linear_model import LinearRegression\n",
    "\n",
    "model = LinearRegression()\n",
    "model.fit(cars_num_tr,cars_Labels)"
   ]
  },
  {
   "cell_type": "code",
   "execution_count": null,
   "id": "ad70d3e1",
   "metadata": {},
   "outputs": [],
   "source": [
    "random_Data = cars.iloc[:5]\n",
    "random_Labels = cars_Labels.iloc[:5]"
   ]
  },
  {
   "cell_type": "code",
   "execution_count": null,
   "id": "bbad8158",
   "metadata": {},
   "outputs": [],
   "source": [
    "prepared_Data = my_pipeline.fit_transform(random_Data) #Sending random data to our model"
   ]
  },
  {
   "cell_type": "code",
   "execution_count": null,
   "id": "55e8fe2a",
   "metadata": {},
   "outputs": [],
   "source": [
    "model.predict(prepared_Data) #Model predicting 'prices' for the given values"
   ]
  },
  {
   "cell_type": "code",
   "execution_count": null,
   "id": "55fe6c7e",
   "metadata": {},
   "outputs": [],
   "source": [
    "print(random_Labels) #Actual Labels"
   ]
  },
  {
   "cell_type": "markdown",
   "id": "9b22eebf",
   "metadata": {},
   "source": [
    "## Evaluating our Model"
   ]
  },
  {
   "cell_type": "code",
   "execution_count": null,
   "id": "11eff155",
   "metadata": {},
   "outputs": [],
   "source": [
    "from sklearn.metrics import mean_squared_error,r2_score\n",
    "\n",
    "train_Predictions = model.predict(cars_num_tr)\n",
    "\n",
    "train_Mean_Squared_Error = mean_squared_error(cars_Labels,train_Predictions)\n",
    "train_Root_Mean_Squared_Error = np.sqrt(train_Mean_Squared_Error)"
   ]
  },
  {
   "cell_type": "code",
   "execution_count": null,
   "id": "bd15d2dd",
   "metadata": {},
   "outputs": [],
   "source": [
    "train_Root_Mean_Squared_Error"
   ]
  },
  {
   "cell_type": "markdown",
   "id": "d878aecc",
   "metadata": {},
   "source": [
    "## Cross Validation Evaluation Technique"
   ]
  },
  {
   "cell_type": "code",
   "execution_count": null,
   "id": "f6a2087e",
   "metadata": {},
   "outputs": [],
   "source": [
    "from sklearn.model_selection import cross_val_score\n",
    "\n",
    "scores = cross_val_score(model,cars_num_tr,cars_Labels,scoring=\"neg_mean_squared_error\",cv= 10)\n",
    "train_Root_Mean_Squared_Error_Scores = np.sqrt(-scores)"
   ]
  },
  {
   "cell_type": "code",
   "execution_count": null,
   "id": "ca3615d4",
   "metadata": {},
   "outputs": [],
   "source": [
    "train_Root_Mean_Squared_Error_Scores"
   ]
  },
  {
   "cell_type": "code",
   "execution_count": null,
   "id": "8f576b9f",
   "metadata": {},
   "outputs": [],
   "source": [
    "def print_Scores(scores):\n",
    "    print(\"Scores is: \",scores)\n",
    "    print(\"Mean is: \",scores.mean())\n",
    "    print(\"Standard Deviation is: \",scores.std())"
   ]
  },
  {
   "cell_type": "code",
   "execution_count": null,
   "id": "86e2c0df",
   "metadata": {},
   "outputs": [],
   "source": [
    "print_Scores(train_Root_Mean_Squared_Error_Scores)"
   ]
  },
  {
   "cell_type": "markdown",
   "id": "a51a2958",
   "metadata": {},
   "source": [
    "## Saving the Model"
   ]
  },
  {
   "cell_type": "code",
   "execution_count": null,
   "id": "0cc94444",
   "metadata": {},
   "outputs": [],
   "source": [
    "from joblib import dump,load\n",
    "\n",
    "dump(model,'Car_Price_Predictor_Model.joblib')"
   ]
  },
  {
   "cell_type": "markdown",
   "id": "3d7d2e87",
   "metadata": {},
   "source": [
    "## Testing Data on our Model"
   ]
  },
  {
   "cell_type": "code",
   "execution_count": null,
   "id": "b232529e",
   "metadata": {},
   "outputs": [],
   "source": [
    "X_test = stratified_Test_Set.drop(\"price\",axis=1)\n",
    "Y_test = stratified_Test_Set[\"price\"].copy()\n",
    "X_test_prepared = my_pipeline.fit_transform(X_test)\n",
    "test_Predictions = model.predict(X_test_prepared)\n",
    "test_Mean_Squared_Error = mean_squared_error(Y_test,test_Predictions)\n",
    "test_Root_Mean_Squared_Error = np.sqrt(test_Mean_Squared_Error)"
   ]
  },
  {
   "cell_type": "code",
   "execution_count": null,
   "id": "95425116",
   "metadata": {},
   "outputs": [],
   "source": [
    "test_Root_Mean_Squared_Error"
   ]
  },
  {
   "cell_type": "code",
   "execution_count": null,
   "id": "b38a6c73",
   "metadata": {},
   "outputs": [],
   "source": [
    "print(test_Predictions,list(Y_test))\n",
    "r2_score"
   ]
  },
  {
   "cell_type": "code",
   "execution_count": null,
   "id": "9e692be5",
   "metadata": {},
   "outputs": [],
   "source": [
    "print(\"Training Set R2 Score: \", round(r2_score(cars_Labels,train_Predictions)*100,2))\n",
    "print(\"Testing Set R2 Score: \", round(r2_score(Y_test,test_Predictions)*100,2))"
   ]
  }
 ],
 "metadata": {
  "kernelspec": {
   "display_name": "Python 3 (ipykernel)",
   "language": "python",
   "name": "python3"
  },
  "language_info": {
   "codemirror_mode": {
    "name": "ipython",
    "version": 3
   },
   "file_extension": ".py",
   "mimetype": "text/x-python",
   "name": "python",
   "nbconvert_exporter": "python",
   "pygments_lexer": "ipython3",
   "version": "3.10.0"
  }
 },
 "nbformat": 4,
 "nbformat_minor": 5
}
